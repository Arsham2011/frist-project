{
 "cells": [
  {
   "cell_type": "code",
   "execution_count": null,
   "id": "000b6474",
   "metadata": {},
   "outputs": [
    {
     "name": "stdout",
     "output_type": "stream",
     "text": [
      "你好\n"
     ]
    }
   ],
   "source": [
    "from deep_translator import GoogleTranslator as GT\n",
    "text = input('give me sentence or word to translate')\n",
    "t = GT(source='auto',target='zh-TW').translate(text)\n",
    "print(t)"
   ]
  },
  {
   "cell_type": "code",
   "execution_count": null,
   "id": "9d3f50ce",
   "metadata": {},
   "outputs": [
    {
     "name": "stdout",
     "output_type": "stream",
     "text": [
      "خشک\n",
      "\n",
      "V V V V V V V V\n",
      "\n",
      "Dry\n",
      "\n",
      "negetive\n"
     ]
    }
   ],
   "source": [
    "from deep_translator import GoogleTranslator as GT\n",
    "from textblob import TextBlob as TB\n",
    "text = input('give me word or sentences to give your feel :')\n",
    "# کد ترجمه\n",
    "t = GT(source='auto', target='en').translate(text)\n",
    "# کد تشخیص احصاصات\n",
    "blob = TB(t)\n",
    "f = blob.sentiment.polarity\n",
    "if text == ' ':\n",
    "    print('OK')\n",
    "elif f > 0 :\n",
    "    print(text)\n",
    "    print('')\n",
    "    print('V V V V V V V V')\n",
    "    print('')\n",
    "    print(t)\n",
    "    print('')\n",
    "    print('pasetive')\n",
    "elif f < 0 :\n",
    "    print(text)\n",
    "    print('')\n",
    "    print('V V V V V V V V')\n",
    "    print('')\n",
    "    print(t)\n",
    "    print('')\n",
    "    print('negetive')\n",
    "else :\n",
    "    print(text)\n",
    "    print('nothing')"
   ]
  },
  {
   "cell_type": "code",
   "execution_count": null,
   "id": "a09b7039",
   "metadata": {},
   "outputs": [
    {
     "name": "stdout",
     "output_type": "stream",
     "text": [
      "yellow\n"
     ]
    },
    {
     "data": {
      "text/plain": [
       "<matplotlib.image.AxesImage at 0x26db36f2350>"
      ]
     },
     "execution_count": 22,
     "metadata": {},
     "output_type": "execute_result"
    },
    {
     "data": {
      "image/png": "[encoded data removed]",
      "text/plain": [
       "<Figure size 640x480 with 1 Axes>"
      ]
     },
     "metadata": {},
     "output_type": "display_data"
    }
   ],
   "source": [
    "# imports\n",
    "import cv2 \n",
    "import numpy as ny\n",
    "import matplotlib.pyplot as plt\n",
    "# image setings\n",
    "image = cv2.imread('yellow.jpg')\n",
    "image = cv2.cvtColor (image , cv2.COLOR_BGR2RGB)\n",
    "image = cv2.resize(image,(30,30))\n",
    "n = ny.mean(image , axis=(1,0))\n",
    "# variables\n",
    "red = n[0]\n",
    "green = n[1]\n",
    "blue = n[2]\n",
    "# canditionaly lines\n",
    "if  red > 136 < 137 and green > 116 < 117 :\n",
    "    print('yellow')\n",
    "elif red > 53 < 54 :\n",
    "    print('red')\n",
    "elif green  > red and blue :\n",
    "    print('green')\n",
    "elif blue  > green and red :\n",
    "    print('blue')\n",
    "plt.imshow(image)"
   ]
  }
 ],
 "metadata": {
  "kernelspec": {
   "display_name": "Python 3",
   "language": "python",
   "name": "python3"
  },
  "language_info": {
   "codemirror_mode": {
    "name": "ipython",
    "version": 3
   },
   "file_extension": ".py",
   "mimetype": "text/x-python",
   "name": "python",
   "nbconvert_exporter": "python",
   "pygments_lexer": "ipython3",
   "version": "3.13.6"
  }
 },
 "nbformat": 4,
 "nbformat_minor": 5
}
