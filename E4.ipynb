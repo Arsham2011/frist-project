{
 "cells": [
  {
   "cell_type": "code",
   "execution_count": 7,
   "id": "fa8dd2f8",
   "metadata": {},
   "outputs": [
    {
     "name": "stdout",
     "output_type": "stream",
     "text": [
      "http://api.openweathermap.org/data/2.5/weather?appid=9adced7ddff5csdc7f031455d3dec00e&q=tehran&units=metric\n",
      "{'cod': 401, 'message': 'Invalid API key. Please see https://openweathermap.org/faq#error401 for more info.'}\n"
     ]
    }
   ],
   "source": [
    "import requests , json\n",
    "API_key = \"9adced7ddff5csdc7f031455d3dec00e\"\n",
    "\n",
    "base_URL = \"http://api.openweathermap.org/data/2.5/weather?\"\n",
    "\n",
    "city_name = input(\"enter city name:\")\n",
    "\n",
    "camplete_URL = base_URL + \"appid=\" + API_key + \"&q=\" + city_name + \"&units=metric\"\n",
    "\n",
    "print(camplete_URL)\n",
    "\n",
    "response = requests.get(camplete_URL)\n",
    "\n",
    "x = response.json()\n",
    "\n",
    "print(x)"
   ]
  }
 ],
 "metadata": {
  "kernelspec": {
   "display_name": "Python 3",
   "language": "python",
   "name": "python3"
  },
  "language_info": {
   "codemirror_mode": {
    "name": "ipython",
    "version": 3
   },
   "file_extension": ".py",
   "mimetype": "text/x-python",
   "name": "python",
   "nbconvert_exporter": "python",
   "pygments_lexer": "ipython3",
   "version": "3.13.6"
  }
 },
 "nbformat": 4,
 "nbformat_minor": 5
}
