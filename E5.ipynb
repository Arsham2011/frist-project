{
 "cells": [
  {
   "cell_type": "code",
   "execution_count": null,
   "id": "f02b0eaf",
   "metadata": {},
   "outputs": [
    {
     "name": "stdout",
     "output_type": "stream",
     "text": [
      "OK\n"
     ]
    }
   ],
   "source": [
    "import random as ran\n",
    "your_point = int(0) \n",
    "computer_point = int(0)\n",
    "shart = True\n",
    "while(shart):\n",
    "    g = ('stone','paper','shier')\n",
    "    rand = ran.randint(0,2)\n",
    "    u = input('select : stone , paper , shier')\n",
    "    c = g[rand]\n",
    "    if u == ' ':\n",
    "        print('OK')\n",
    "        break\n",
    "    if u == c :\n",
    "        print('no one won ')\n",
    "        print('you:',u,' (',your_point,') ','computer:',c,' (',computer_point,') ')\n",
    "    if u == 'stone' and c == 'shier' :\n",
    "        print('you won :)')\n",
    "        your_point = your_point + 1\n",
    "        print('you:',u,' (',your_point,') ','computer:',c,' (',computer_point,') ')\n",
    "    if u == 'paper' and c == 'shier':\n",
    "        print('you lose :(')\n",
    "        computer_point = computer_point + 1\n",
    "        print('you:',u,' (',your_point,') ','computer:',c,' (',computer_point,') ')\n",
    "    if u == 'shier' and c == 'paper':\n",
    "        print('you won :)')\n",
    "        your_point = your_point + 1\n",
    "        print('you:',u,' (',your_point,') ','computer:',c,' (',computer_point,') ')\n",
    "    if u == 'paper' and c == 'stone':\n",
    "        print('you won :)')\n",
    "        your_point = your_point + 1\n",
    "        print('you:',u,' (',your_point,') ','computer:',c,' (',computer_point,') ')\n",
    "    if u == 'stone' and c == 'paper':\n",
    "        print('you lose :(')\n",
    "        computer_point = computer_point + 1\n",
    "        print('you:',u,' (',your_point,') ','computer:',c,' (',computer_point,') ')\n",
    "    if u == 'shier' and c == 'stone' :\n",
    "        print('you lose :(')\n",
    "        computer_point = computer_point + 1\n",
    "        print('you:',u,' (',your_point,') ','computer:',c,' (',computer_point,') ')\n",
    "    if your_point>=3 or computer_point>=3:\n",
    "        shart = False\n",
    "        if your_point > computer_point :\n",
    "            print(\"you won game!\")\n",
    "        if your_point < computer_point :\n",
    "            print(\"computer won game!\")\n",
    "with open('note.text','w',encoding='utf-8') as f:\n",
    "    f.write(f'your point: {your_point} \\n')\n",
    "    f.write(f'computer point: {computer_point} \\n')"
   ]
  }
 ],
 "metadata": {
  "kernelspec": {
   "display_name": "Python 3",
   "language": "python",
   "name": "python3"
  },
  "language_info": {
   "codemirror_mode": {
    "name": "ipython",
    "version": 3
   },
   "file_extension": ".py",
   "mimetype": "text/x-python",
   "name": "python",
   "nbconvert_exporter": "python",
   "pygments_lexer": "ipython3",
   "version": "3.13.6"
  }
 },
 "nbformat": 4,
 "nbformat_minor": 5
}
