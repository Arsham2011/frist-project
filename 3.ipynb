{
 "cells": [
  {
   "cell_type": "code",
   "execution_count": 1,
   "id": "b78fb781",
   "metadata": {},
   "outputs": [
    {
     "name": "stdout",
     "output_type": "stream",
     "text": [
      "bay\n"
     ]
    }
   ],
   "source": [
    "list = []\n",
    "\n",
    "while True:\n",
    "    \n",
    "    t = input('what i have to do?')\n",
    "    \n",
    "    if t == 'add':\n",
    "        \n",
    "        task = input('add thing you whant')\n",
    "        \n",
    "        list.append(task)\n",
    "\n",
    "    elif t == 'remove':\n",
    "        \n",
    "        task = input('remove thing you whant')\n",
    "        \n",
    "        list.remove(task)\n",
    "    \n",
    "    elif t == 'show':\n",
    "        \n",
    "        print(list)\n",
    "        \n",
    "    elif t == 'save':\n",
    "        \n",
    "        with open('note.text','w',encoding='utf-8') as f:\n",
    "            \n",
    "            f.write('/n'.join(list))\n",
    "\n",
    "    elif t == 'stop':\n",
    "        \n",
    "        print(\"bay\")\n",
    "        \n",
    "        break"
   ]
  }
 ],
 "metadata": {
  "kernelspec": {
   "display_name": "Python 3",
   "language": "python",
   "name": "python3"
  },
  "language_info": {
   "codemirror_mode": {
    "name": "ipython",
    "version": 3
   },
   "file_extension": ".py",
   "mimetype": "text/x-python",
   "name": "python",
   "nbconvert_exporter": "python",
   "pygments_lexer": "ipython3",
   "version": "3.13.6"
  }
 },
 "nbformat": 4,
 "nbformat_minor": 5
}
