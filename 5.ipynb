{
 "cells": [
  {
   "cell_type": "code",
   "execution_count": null,
   "id": "7d712134",
   "metadata": {},
   "outputs": [
    {
     "name": "stdout",
     "output_type": "stream",
     "text": [
      "[[159.54674598]]\n"
     ]
    },
    {
     "name": "stderr",
     "output_type": "stream",
     "text": [
      "c:\\Users\\Rayan\\AppData\\Local\\Programs\\Python\\Python313\\Lib\\site-packages\\sklearn\\utils\\validation.py:2749: UserWarning: X does not have valid feature names, but LinearRegression was fitted with feature names\n",
      "  warnings.warn(\n"
     ]
    }
   ],
   "source": [
    "import pandas as pas\n",
    "d = pas.read_csv('dataset.csv')\n",
    "d.head()\n",
    "\n",
    "from sklearn.linear_model import LinearRegression as LR\n",
    "\n",
    "x = d[['Weight(Pounds)']]\n",
    "y = d[['Height(Inches)']]\n",
    "\n",
    "m = LR()\n",
    "m.fit(x,y)\n",
    "weight_kg = 75\n",
    "weight_pound = weight_kg / 0.452\n",
    "\n",
    "hight_inch = m.predict([[weight]])\n",
    "hight_cm = hight_inch * 2.52\n",
    "\n",
    "print(hight_cm)"
   ]
  }
 ],
 "metadata": {
  "kernelspec": {
   "display_name": "Python 3",
   "language": "python",
   "name": "python3"
  },
  "language_info": {
   "codemirror_mode": {
    "name": "ipython",
    "version": 3
   },
   "file_extension": ".py",
   "mimetype": "text/x-python",
   "name": "python",
   "nbconvert_exporter": "python",
   "pygments_lexer": "ipython3",
   "version": "3.13.6"
  }
 },
 "nbformat": 4,
 "nbformat_minor": 5
}
